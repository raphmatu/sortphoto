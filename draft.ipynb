{
 "cells": [
  {
   "cell_type": "code",
   "execution_count": 1,
   "metadata": {
    "pycharm": {
     "name": "#%%\n"
    }
   },
   "outputs": [
    {
     "name": "stderr",
     "output_type": "stream",
     "text": [
      "/var/folders/2p/xkb_dxsd3sqfntxcfrr_n0lc0000gn/T/ipykernel_6778/1000898102.py:15: DeprecationWarning: Importing display from IPython.core.display is deprecated since IPython 7.14, please import from IPython display\n",
      "  from IPython.core.display import display, HTML\n"
     ]
    },
    {
     "data": {
      "text/html": [
       "<style>.container { width:100% !important; }</style>"
      ],
      "text/plain": [
       "<IPython.core.display.HTML object>"
      ]
     },
     "metadata": {},
     "output_type": "display_data"
    }
   ],
   "source": [
    "import os\n",
    "import calendar\n",
    "import datetime\n",
    "import subprocess\n",
    "import pandas as pd\n",
    "import numpy as np\n",
    "from tqdm import tqdm\n",
    "\n",
    "from PIL import Image\n",
    "from PIL.ExifTags import TAGS\n",
    "\n",
    "pd.set_option('display.max_columns', 50)\n",
    "pd.set_option('display.max_colwidth', None)\n",
    "\n",
    "from IPython.core.display import display, HTML\n",
    "display(HTML(\"<style>.container { width:100% !important; }</style>\"))"
   ]
  },
  {
   "cell_type": "code",
   "execution_count": null,
   "metadata": {
    "pycharm": {
     "name": "#%%\n"
    }
   },
   "outputs": [],
   "source": []
  },
  {
   "cell_type": "code",
   "execution_count": 8,
   "metadata": {
    "pycharm": {
     "name": "#%%\n"
    }
   },
   "outputs": [],
   "source": [
    "df_test = pd.read_csv('df_auto.csv', sep=\",\")"
   ]
  },
  {
   "cell_type": "code",
   "execution_count": 5,
   "metadata": {
    "pycharm": {
     "name": "#%%\n"
    }
   },
   "outputs": [],
   "source": [
    "df = pd.DataFrame(columns=['locations', \"start_date (YYYY-MM-DD)\", \"end_date (YYYY-MM-DD)\"])"
   ]
  },
  {
   "cell_type": "code",
   "execution_count": 18,
   "metadata": {
    "pycharm": {
     "name": "#%%\n"
    }
   },
   "outputs": [],
   "source": [
    "df['locations'] = [\"Cambodia\"]\n",
    "df['start_date (YYYY-MM-DD)'] = pd.to_datetime(['2021-07-04'])\n",
    "df['end_date (YYYY-MM-DD)'] = pd.to_datetime(['2021-08-04'])"
   ]
  },
  {
   "cell_type": "code",
   "execution_count": 19,
   "metadata": {},
   "outputs": [
    {
     "data": {
      "text/html": [
       "<div>\n",
       "<style scoped>\n",
       "    .dataframe tbody tr th:only-of-type {\n",
       "        vertical-align: middle;\n",
       "    }\n",
       "\n",
       "    .dataframe tbody tr th {\n",
       "        vertical-align: top;\n",
       "    }\n",
       "\n",
       "    .dataframe thead th {\n",
       "        text-align: right;\n",
       "    }\n",
       "</style>\n",
       "<table border=\"1\" class=\"dataframe\">\n",
       "  <thead>\n",
       "    <tr style=\"text-align: right;\">\n",
       "      <th></th>\n",
       "      <th>Unnamed: 0</th>\n",
       "      <th>from_path</th>\n",
       "      <th>filetype</th>\n",
       "      <th>date</th>\n",
       "      <th>manual_sort</th>\n",
       "      <th>photo_year</th>\n",
       "      <th>photo_month</th>\n",
       "      <th>photo_month_name</th>\n",
       "      <th>to_path</th>\n",
       "    </tr>\n",
       "  </thead>\n",
       "  <tbody>\n",
       "    <tr>\n",
       "      <th>0</th>\n",
       "      <td>0</td>\n",
       "      <td>/Users/raphaelmatusiak/Documents/Perso/projet perso/sortphoto/fileBucket/IMG_20210113_093540.jpg</td>\n",
       "      <td>photo</td>\n",
       "      <td>2021-01-13 09:35:44</td>\n",
       "      <td>False</td>\n",
       "      <td>2021</td>\n",
       "      <td>1</td>\n",
       "      <td>01_Jan</td>\n",
       "      <td>/Users/raphaelmatusiak/Documents/Perso/projet perso/sortphoto/sorted_photos/2021/01_Jan</td>\n",
       "    </tr>\n",
       "    <tr>\n",
       "      <th>1</th>\n",
       "      <td>1</td>\n",
       "      <td>/Users/raphaelmatusiak/Documents/Perso/projet perso/sortphoto/fileBucket/DSC05084.JPG</td>\n",
       "      <td>photo</td>\n",
       "      <td>2021-07-05 10:59:33</td>\n",
       "      <td>False</td>\n",
       "      <td>2021</td>\n",
       "      <td>7</td>\n",
       "      <td>07_Jul</td>\n",
       "      <td>/Users/raphaelmatusiak/Documents/Perso/projet perso/sortphoto/sorted_photos/2021/07_Jul</td>\n",
       "    </tr>\n",
       "    <tr>\n",
       "      <th>2</th>\n",
       "      <td>2</td>\n",
       "      <td>/Users/raphaelmatusiak/Documents/Perso/projet perso/sortphoto/fileBucket/DSC05078.JPG</td>\n",
       "      <td>photo</td>\n",
       "      <td>2021-07-05 10:58:12</td>\n",
       "      <td>False</td>\n",
       "      <td>2021</td>\n",
       "      <td>7</td>\n",
       "      <td>07_Jul</td>\n",
       "      <td>/Users/raphaelmatusiak/Documents/Perso/projet perso/sortphoto/sorted_photos/2021/07_Jul</td>\n",
       "    </tr>\n",
       "    <tr>\n",
       "      <th>3</th>\n",
       "      <td>3</td>\n",
       "      <td>/Users/raphaelmatusiak/Documents/Perso/projet perso/sortphoto/fileBucket/DSC05337.JPG</td>\n",
       "      <td>photo</td>\n",
       "      <td>2012-09-08 19:17:59</td>\n",
       "      <td>False</td>\n",
       "      <td>2012</td>\n",
       "      <td>9</td>\n",
       "      <td>09_Sep</td>\n",
       "      <td>/Users/raphaelmatusiak/Documents/Perso/projet perso/sortphoto/sorted_photos/2012/09_Sep</td>\n",
       "    </tr>\n",
       "    <tr>\n",
       "      <th>4</th>\n",
       "      <td>4</td>\n",
       "      <td>/Users/raphaelmatusiak/Documents/Perso/projet perso/sortphoto/fileBucket/DSC05080.JPG</td>\n",
       "      <td>photo</td>\n",
       "      <td>2021-07-05 10:58:14</td>\n",
       "      <td>False</td>\n",
       "      <td>2021</td>\n",
       "      <td>7</td>\n",
       "      <td>07_Jul</td>\n",
       "      <td>/Users/raphaelmatusiak/Documents/Perso/projet perso/sortphoto/sorted_photos/2021/07_Jul</td>\n",
       "    </tr>\n",
       "  </tbody>\n",
       "</table>\n",
       "</div>"
      ],
      "text/plain": [
       "   Unnamed: 0  \\\n",
       "0           0   \n",
       "1           1   \n",
       "2           2   \n",
       "3           3   \n",
       "4           4   \n",
       "\n",
       "                                                                                          from_path  \\\n",
       "0  /Users/raphaelmatusiak/Documents/Perso/projet perso/sortphoto/fileBucket/IMG_20210113_093540.jpg   \n",
       "1             /Users/raphaelmatusiak/Documents/Perso/projet perso/sortphoto/fileBucket/DSC05084.JPG   \n",
       "2             /Users/raphaelmatusiak/Documents/Perso/projet perso/sortphoto/fileBucket/DSC05078.JPG   \n",
       "3             /Users/raphaelmatusiak/Documents/Perso/projet perso/sortphoto/fileBucket/DSC05337.JPG   \n",
       "4             /Users/raphaelmatusiak/Documents/Perso/projet perso/sortphoto/fileBucket/DSC05080.JPG   \n",
       "\n",
       "  filetype                date  manual_sort  photo_year  photo_month  \\\n",
       "0    photo 2021-01-13 09:35:44        False        2021            1   \n",
       "1    photo 2021-07-05 10:59:33        False        2021            7   \n",
       "2    photo 2021-07-05 10:58:12        False        2021            7   \n",
       "3    photo 2012-09-08 19:17:59        False        2012            9   \n",
       "4    photo 2021-07-05 10:58:14        False        2021            7   \n",
       "\n",
       "  photo_month_name  \\\n",
       "0           01_Jan   \n",
       "1           07_Jul   \n",
       "2           07_Jul   \n",
       "3           09_Sep   \n",
       "4           07_Jul   \n",
       "\n",
       "                                                                                   to_path  \n",
       "0  /Users/raphaelmatusiak/Documents/Perso/projet perso/sortphoto/sorted_photos/2021/01_Jan  \n",
       "1  /Users/raphaelmatusiak/Documents/Perso/projet perso/sortphoto/sorted_photos/2021/07_Jul  \n",
       "2  /Users/raphaelmatusiak/Documents/Perso/projet perso/sortphoto/sorted_photos/2021/07_Jul  \n",
       "3  /Users/raphaelmatusiak/Documents/Perso/projet perso/sortphoto/sorted_photos/2012/09_Sep  \n",
       "4  /Users/raphaelmatusiak/Documents/Perso/projet perso/sortphoto/sorted_photos/2021/07_Jul  "
      ]
     },
     "execution_count": 19,
     "metadata": {},
     "output_type": "execute_result"
    }
   ],
   "source": [
    "df_test.head()"
   ]
  },
  {
   "cell_type": "code",
   "execution_count": 20,
   "metadata": {
    "pycharm": {
     "name": "#%%\n"
    }
   },
   "outputs": [
    {
     "data": {
      "text/html": [
       "<div>\n",
       "<style scoped>\n",
       "    .dataframe tbody tr th:only-of-type {\n",
       "        vertical-align: middle;\n",
       "    }\n",
       "\n",
       "    .dataframe tbody tr th {\n",
       "        vertical-align: top;\n",
       "    }\n",
       "\n",
       "    .dataframe thead th {\n",
       "        text-align: right;\n",
       "    }\n",
       "</style>\n",
       "<table border=\"1\" class=\"dataframe\">\n",
       "  <thead>\n",
       "    <tr style=\"text-align: right;\">\n",
       "      <th></th>\n",
       "      <th>locations</th>\n",
       "      <th>start_date (YYYY-MM-DD)</th>\n",
       "      <th>end_date (YYYY-MM-DD)</th>\n",
       "    </tr>\n",
       "  </thead>\n",
       "  <tbody>\n",
       "    <tr>\n",
       "      <th>0</th>\n",
       "      <td>Cambodia</td>\n",
       "      <td>2021-07-04</td>\n",
       "      <td>2021-08-04</td>\n",
       "    </tr>\n",
       "  </tbody>\n",
       "</table>\n",
       "</div>"
      ],
      "text/plain": [
       "  locations start_date (YYYY-MM-DD) end_date (YYYY-MM-DD)\n",
       "0  Cambodia              2021-07-04            2021-08-04"
      ]
     },
     "execution_count": 20,
     "metadata": {},
     "output_type": "execute_result"
    }
   ],
   "source": [
    "df.head()"
   ]
  },
  {
   "cell_type": "code",
   "execution_count": null,
   "metadata": {},
   "outputs": [],
   "source": []
  },
  {
   "cell_type": "code",
   "execution_count": 39,
   "metadata": {},
   "outputs": [],
   "source": [
    "def extract_location(date, df_locations):\n",
    "    \n",
    "    df_time_window = df[(df['start_date (YYYY-MM-DD)'] < date) & (df['end_date (YYYY-MM-DD)'] > date)].reset_index()\n",
    "    \n",
    "    if len(df_time_window) > 1:\n",
    "        print('Several dates are overlapping')\n",
    "    elif len(df_time_window) == 0:\n",
    "        return np.nan\n",
    "    \n",
    "    return df_time_window['locations'].item()\n",
    "    "
   ]
  },
  {
   "cell_type": "code",
   "execution_count": 44,
   "metadata": {},
   "outputs": [],
   "source": [
    "def add_location_to_path(path, location):\n",
    "    if not pd.isna(location):\n",
    "        new_path = '{}_{}'.format(path, location)\n",
    "        return new_path\n",
    "    return path"
   ]
  },
  {
   "cell_type": "code",
   "execution_count": 45,
   "metadata": {},
   "outputs": [],
   "source": [
    "df_test['location'] = df_test['date'].map(lambda x: extract_location(x, df))\n",
    "df_test['to_path'] = df_test.apply(lambda x: add_location_to_path(x['to_path'], x['location']), axis=1)\n",
    "\n",
    "        "
   ]
  },
  {
   "cell_type": "code",
   "execution_count": 46,
   "metadata": {},
   "outputs": [
    {
     "data": {
      "text/html": [
       "<div>\n",
       "<style scoped>\n",
       "    .dataframe tbody tr th:only-of-type {\n",
       "        vertical-align: middle;\n",
       "    }\n",
       "\n",
       "    .dataframe tbody tr th {\n",
       "        vertical-align: top;\n",
       "    }\n",
       "\n",
       "    .dataframe thead th {\n",
       "        text-align: right;\n",
       "    }\n",
       "</style>\n",
       "<table border=\"1\" class=\"dataframe\">\n",
       "  <thead>\n",
       "    <tr style=\"text-align: right;\">\n",
       "      <th></th>\n",
       "      <th>Unnamed: 0</th>\n",
       "      <th>from_path</th>\n",
       "      <th>filetype</th>\n",
       "      <th>date</th>\n",
       "      <th>manual_sort</th>\n",
       "      <th>photo_year</th>\n",
       "      <th>photo_month</th>\n",
       "      <th>photo_month_name</th>\n",
       "      <th>to_path</th>\n",
       "      <th>location</th>\n",
       "    </tr>\n",
       "  </thead>\n",
       "  <tbody>\n",
       "    <tr>\n",
       "      <th>0</th>\n",
       "      <td>0</td>\n",
       "      <td>/Users/raphaelmatusiak/Documents/Perso/projet perso/sortphoto/fileBucket/IMG_20210113_093540.jpg</td>\n",
       "      <td>photo</td>\n",
       "      <td>2021-01-13 09:35:44</td>\n",
       "      <td>False</td>\n",
       "      <td>2021</td>\n",
       "      <td>1</td>\n",
       "      <td>01_Jan</td>\n",
       "      <td>/Users/raphaelmatusiak/Documents/Perso/projet perso/sortphoto/sorted_photos/2021/01_Jan</td>\n",
       "      <td>NaN</td>\n",
       "    </tr>\n",
       "    <tr>\n",
       "      <th>1</th>\n",
       "      <td>1</td>\n",
       "      <td>/Users/raphaelmatusiak/Documents/Perso/projet perso/sortphoto/fileBucket/DSC05084.JPG</td>\n",
       "      <td>photo</td>\n",
       "      <td>2021-07-05 10:59:33</td>\n",
       "      <td>False</td>\n",
       "      <td>2021</td>\n",
       "      <td>7</td>\n",
       "      <td>07_Jul</td>\n",
       "      <td>/Users/raphaelmatusiak/Documents/Perso/projet perso/sortphoto/sorted_photos/2021/07_Jul_Cambodia</td>\n",
       "      <td>Cambodia</td>\n",
       "    </tr>\n",
       "    <tr>\n",
       "      <th>2</th>\n",
       "      <td>2</td>\n",
       "      <td>/Users/raphaelmatusiak/Documents/Perso/projet perso/sortphoto/fileBucket/DSC05078.JPG</td>\n",
       "      <td>photo</td>\n",
       "      <td>2021-07-05 10:58:12</td>\n",
       "      <td>False</td>\n",
       "      <td>2021</td>\n",
       "      <td>7</td>\n",
       "      <td>07_Jul</td>\n",
       "      <td>/Users/raphaelmatusiak/Documents/Perso/projet perso/sortphoto/sorted_photos/2021/07_Jul_Cambodia</td>\n",
       "      <td>Cambodia</td>\n",
       "    </tr>\n",
       "    <tr>\n",
       "      <th>3</th>\n",
       "      <td>3</td>\n",
       "      <td>/Users/raphaelmatusiak/Documents/Perso/projet perso/sortphoto/fileBucket/DSC05337.JPG</td>\n",
       "      <td>photo</td>\n",
       "      <td>2012-09-08 19:17:59</td>\n",
       "      <td>False</td>\n",
       "      <td>2012</td>\n",
       "      <td>9</td>\n",
       "      <td>09_Sep</td>\n",
       "      <td>/Users/raphaelmatusiak/Documents/Perso/projet perso/sortphoto/sorted_photos/2012/09_Sep</td>\n",
       "      <td>NaN</td>\n",
       "    </tr>\n",
       "    <tr>\n",
       "      <th>4</th>\n",
       "      <td>4</td>\n",
       "      <td>/Users/raphaelmatusiak/Documents/Perso/projet perso/sortphoto/fileBucket/DSC05080.JPG</td>\n",
       "      <td>photo</td>\n",
       "      <td>2021-07-05 10:58:14</td>\n",
       "      <td>False</td>\n",
       "      <td>2021</td>\n",
       "      <td>7</td>\n",
       "      <td>07_Jul</td>\n",
       "      <td>/Users/raphaelmatusiak/Documents/Perso/projet perso/sortphoto/sorted_photos/2021/07_Jul_Cambodia</td>\n",
       "      <td>Cambodia</td>\n",
       "    </tr>\n",
       "    <tr>\n",
       "      <th>...</th>\n",
       "      <td>...</td>\n",
       "      <td>...</td>\n",
       "      <td>...</td>\n",
       "      <td>...</td>\n",
       "      <td>...</td>\n",
       "      <td>...</td>\n",
       "      <td>...</td>\n",
       "      <td>...</td>\n",
       "      <td>...</td>\n",
       "      <td>...</td>\n",
       "    </tr>\n",
       "    <tr>\n",
       "      <th>57</th>\n",
       "      <td>57</td>\n",
       "      <td>/Users/raphaelmatusiak/Documents/Perso/projet perso/sortphoto/fileBucket/sous_dossier_1/Photos &amp; vidéos/photo shoot/DSC_1331.jpg</td>\n",
       "      <td>photo</td>\n",
       "      <td>2019-09-14 17:08:02</td>\n",
       "      <td>False</td>\n",
       "      <td>2019</td>\n",
       "      <td>9</td>\n",
       "      <td>09_Sep</td>\n",
       "      <td>/Users/raphaelmatusiak/Documents/Perso/projet perso/sortphoto/sorted_photos/2019/09_Sep</td>\n",
       "      <td>NaN</td>\n",
       "    </tr>\n",
       "    <tr>\n",
       "      <th>58</th>\n",
       "      <td>58</td>\n",
       "      <td>/Users/raphaelmatusiak/Documents/Perso/projet perso/sortphoto/fileBucket/sous_dossier_1/Photos &amp; vidéos/photo shoot/DSC_1325.jpg</td>\n",
       "      <td>photo</td>\n",
       "      <td>2019-09-14 17:06:51</td>\n",
       "      <td>False</td>\n",
       "      <td>2019</td>\n",
       "      <td>9</td>\n",
       "      <td>09_Sep</td>\n",
       "      <td>/Users/raphaelmatusiak/Documents/Perso/projet perso/sortphoto/sorted_photos/2019/09_Sep</td>\n",
       "      <td>NaN</td>\n",
       "    </tr>\n",
       "    <tr>\n",
       "      <th>59</th>\n",
       "      <td>59</td>\n",
       "      <td>/Users/raphaelmatusiak/Documents/Perso/projet perso/sortphoto/fileBucket/sous_dossier_1/Photos &amp; vidéos/photo shoot/DSC_1323.jpg</td>\n",
       "      <td>photo</td>\n",
       "      <td>2019-09-14 17:05:34</td>\n",
       "      <td>False</td>\n",
       "      <td>2019</td>\n",
       "      <td>9</td>\n",
       "      <td>09_Sep</td>\n",
       "      <td>/Users/raphaelmatusiak/Documents/Perso/projet perso/sortphoto/sorted_photos/2019/09_Sep</td>\n",
       "      <td>NaN</td>\n",
       "    </tr>\n",
       "    <tr>\n",
       "      <th>60</th>\n",
       "      <td>60</td>\n",
       "      <td>/Users/raphaelmatusiak/Documents/Perso/projet perso/sortphoto/fileBucket/sous_dossier_1/Photos &amp; vidéos/photo shoot/DSC_1337.jpg</td>\n",
       "      <td>photo</td>\n",
       "      <td>2019-09-14 17:08:38</td>\n",
       "      <td>False</td>\n",
       "      <td>2019</td>\n",
       "      <td>9</td>\n",
       "      <td>09_Sep</td>\n",
       "      <td>/Users/raphaelmatusiak/Documents/Perso/projet perso/sortphoto/sorted_photos/2019/09_Sep</td>\n",
       "      <td>NaN</td>\n",
       "    </tr>\n",
       "    <tr>\n",
       "      <th>61</th>\n",
       "      <td>61</td>\n",
       "      <td>/Users/raphaelmatusiak/Documents/Perso/projet perso/sortphoto/fileBucket/sous_dossier_1/Photos &amp; vidéos/photo shoot/DSC_1343-2.jpg</td>\n",
       "      <td>photo</td>\n",
       "      <td>2019-09-14 17:24:52</td>\n",
       "      <td>False</td>\n",
       "      <td>2019</td>\n",
       "      <td>9</td>\n",
       "      <td>09_Sep</td>\n",
       "      <td>/Users/raphaelmatusiak/Documents/Perso/projet perso/sortphoto/sorted_photos/2019/09_Sep</td>\n",
       "      <td>NaN</td>\n",
       "    </tr>\n",
       "  </tbody>\n",
       "</table>\n",
       "<p>62 rows × 10 columns</p>\n",
       "</div>"
      ],
      "text/plain": [
       "    Unnamed: 0  \\\n",
       "0            0   \n",
       "1            1   \n",
       "2            2   \n",
       "3            3   \n",
       "4            4   \n",
       "..         ...   \n",
       "57          57   \n",
       "58          58   \n",
       "59          59   \n",
       "60          60   \n",
       "61          61   \n",
       "\n",
       "                                                                                                                              from_path  \\\n",
       "0                                      /Users/raphaelmatusiak/Documents/Perso/projet perso/sortphoto/fileBucket/IMG_20210113_093540.jpg   \n",
       "1                                                 /Users/raphaelmatusiak/Documents/Perso/projet perso/sortphoto/fileBucket/DSC05084.JPG   \n",
       "2                                                 /Users/raphaelmatusiak/Documents/Perso/projet perso/sortphoto/fileBucket/DSC05078.JPG   \n",
       "3                                                 /Users/raphaelmatusiak/Documents/Perso/projet perso/sortphoto/fileBucket/DSC05337.JPG   \n",
       "4                                                 /Users/raphaelmatusiak/Documents/Perso/projet perso/sortphoto/fileBucket/DSC05080.JPG   \n",
       "..                                                                                                                                  ...   \n",
       "57    /Users/raphaelmatusiak/Documents/Perso/projet perso/sortphoto/fileBucket/sous_dossier_1/Photos & vidéos/photo shoot/DSC_1331.jpg   \n",
       "58    /Users/raphaelmatusiak/Documents/Perso/projet perso/sortphoto/fileBucket/sous_dossier_1/Photos & vidéos/photo shoot/DSC_1325.jpg   \n",
       "59    /Users/raphaelmatusiak/Documents/Perso/projet perso/sortphoto/fileBucket/sous_dossier_1/Photos & vidéos/photo shoot/DSC_1323.jpg   \n",
       "60    /Users/raphaelmatusiak/Documents/Perso/projet perso/sortphoto/fileBucket/sous_dossier_1/Photos & vidéos/photo shoot/DSC_1337.jpg   \n",
       "61  /Users/raphaelmatusiak/Documents/Perso/projet perso/sortphoto/fileBucket/sous_dossier_1/Photos & vidéos/photo shoot/DSC_1343-2.jpg   \n",
       "\n",
       "   filetype                date  manual_sort  photo_year  photo_month  \\\n",
       "0     photo 2021-01-13 09:35:44        False        2021            1   \n",
       "1     photo 2021-07-05 10:59:33        False        2021            7   \n",
       "2     photo 2021-07-05 10:58:12        False        2021            7   \n",
       "3     photo 2012-09-08 19:17:59        False        2012            9   \n",
       "4     photo 2021-07-05 10:58:14        False        2021            7   \n",
       "..      ...                 ...          ...         ...          ...   \n",
       "57    photo 2019-09-14 17:08:02        False        2019            9   \n",
       "58    photo 2019-09-14 17:06:51        False        2019            9   \n",
       "59    photo 2019-09-14 17:05:34        False        2019            9   \n",
       "60    photo 2019-09-14 17:08:38        False        2019            9   \n",
       "61    photo 2019-09-14 17:24:52        False        2019            9   \n",
       "\n",
       "   photo_month_name  \\\n",
       "0            01_Jan   \n",
       "1            07_Jul   \n",
       "2            07_Jul   \n",
       "3            09_Sep   \n",
       "4            07_Jul   \n",
       "..              ...   \n",
       "57           09_Sep   \n",
       "58           09_Sep   \n",
       "59           09_Sep   \n",
       "60           09_Sep   \n",
       "61           09_Sep   \n",
       "\n",
       "                                                                                             to_path  \\\n",
       "0            /Users/raphaelmatusiak/Documents/Perso/projet perso/sortphoto/sorted_photos/2021/01_Jan   \n",
       "1   /Users/raphaelmatusiak/Documents/Perso/projet perso/sortphoto/sorted_photos/2021/07_Jul_Cambodia   \n",
       "2   /Users/raphaelmatusiak/Documents/Perso/projet perso/sortphoto/sorted_photos/2021/07_Jul_Cambodia   \n",
       "3            /Users/raphaelmatusiak/Documents/Perso/projet perso/sortphoto/sorted_photos/2012/09_Sep   \n",
       "4   /Users/raphaelmatusiak/Documents/Perso/projet perso/sortphoto/sorted_photos/2021/07_Jul_Cambodia   \n",
       "..                                                                                               ...   \n",
       "57           /Users/raphaelmatusiak/Documents/Perso/projet perso/sortphoto/sorted_photos/2019/09_Sep   \n",
       "58           /Users/raphaelmatusiak/Documents/Perso/projet perso/sortphoto/sorted_photos/2019/09_Sep   \n",
       "59           /Users/raphaelmatusiak/Documents/Perso/projet perso/sortphoto/sorted_photos/2019/09_Sep   \n",
       "60           /Users/raphaelmatusiak/Documents/Perso/projet perso/sortphoto/sorted_photos/2019/09_Sep   \n",
       "61           /Users/raphaelmatusiak/Documents/Perso/projet perso/sortphoto/sorted_photos/2019/09_Sep   \n",
       "\n",
       "    location  \n",
       "0        NaN  \n",
       "1   Cambodia  \n",
       "2   Cambodia  \n",
       "3        NaN  \n",
       "4   Cambodia  \n",
       "..       ...  \n",
       "57       NaN  \n",
       "58       NaN  \n",
       "59       NaN  \n",
       "60       NaN  \n",
       "61       NaN  \n",
       "\n",
       "[62 rows x 10 columns]"
      ]
     },
     "execution_count": 46,
     "metadata": {},
     "output_type": "execute_result"
    }
   ],
   "source": [
    "df_test"
   ]
  },
  {
   "cell_type": "code",
   "execution_count": null,
   "metadata": {},
   "outputs": [],
   "source": []
  },
  {
   "cell_type": "code",
   "execution_count": null,
   "outputs": [],
   "source": [],
   "metadata": {
    "collapsed": false,
    "pycharm": {
     "name": "#%%\n"
    }
   }
  },
  {
   "cell_type": "code",
   "execution_count": null,
   "outputs": [],
   "source": [
    "df.to_csv('locations.csv', sep=\";\", index=False)"
   ],
   "metadata": {
    "collapsed": false,
    "pycharm": {
     "name": "#%%\n"
    }
   }
  },
  {
   "cell_type": "code",
   "execution_count": null,
   "outputs": [],
   "source": [],
   "metadata": {
    "collapsed": false,
    "pycharm": {
     "name": "#%%\n"
    }
   }
  }
 ],
 "metadata": {
  "kernelspec": {
   "display_name": "Python 3 (ipykernel)",
   "language": "python",
   "name": "python3"
  },
  "language_info": {
   "codemirror_mode": {
    "name": "ipython",
    "version": 3
   },
   "file_extension": ".py",
   "mimetype": "text/x-python",
   "name": "python",
   "nbconvert_exporter": "python",
   "pygments_lexer": "ipython3",
   "version": "3.9.7"
  }
 },
 "nbformat": 4,
 "nbformat_minor": 4
}